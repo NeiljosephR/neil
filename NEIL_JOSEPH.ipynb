{
  "nbformat": 4,
  "nbformat_minor": 0,
  "metadata": {
    "colab": {
      "name": "NEIL JOSEPH.ipynb",
      "provenance": []
    },
    "kernelspec": {
      "name": "python3",
      "display_name": "Python 3"
    },
    "language_info": {
      "name": "python"
    }
  },
  "cells": [
    {
      "cell_type": "code",
      "metadata": {
        "colab": {
          "base_uri": "https://localhost:8080/"
        },
        "id": "EgcehqdKEVOH",
        "outputId": "76053cf0-2eba-46a4-b43c-e1a431fc024a"
      },
      "source": [
        "\n",
        "import numpy as np\n",
        "import sklearn\n",
        "import pandas as pd\n",
        "from sklearn.datasets import load_boston\n",
        "dd=load_boston()\n",
        "dd.keys()\n",
        "#print(dd.DESCR)\\n,\n",
        "boston=pd.DataFrame(dd.data,columns=dd.feature_names)\n",
        "boston.head()\n",
        "boston['Prob']=dd.target\n",
        "boston.head()\n",
        "boston.isnull()\n",
        "boston.isnull().sum()\n",
        "from sklearn.model_selection import train_test_split\n",
        "x=boston.drop('Prob',axis=1)\n",
        "y=boston['Prob']\n",
        "x_train,x_test,y_train,y_test=train_test_split(x,y,test_size=0.15,random_state=5)\n",
        "print(x_train.shape)\n",
        "print(x_test.shape)\n",
        "print(y_train.shape)\n",
        "print(y_test.shape)\n",
        "from sklearn.linear_model import LinearRegression\n",
        "from sklearn.metrics import mean_squared_error\n",
        "l_model=LinearRegression()\n",
        "l_model.fit(x_train,y_train)\n",
        "y_train_predict=l_model.predict(x_train)\n",
        "rms=(np.sqrt(mean_squared_error(y_train,y_train_predict)))\n",
        "print(\"The model performance for training set\")\n",
        "print('RMSE is {}'.format(rms),\"\\\\n\")\n",
        "y_test_predict=l_model.predict(x_test)\n",
        "rms=(np.sqrt(mean_squared_error(y_test,y_test_predict)))\n",
        "print(\"The model performance for testing set\")\n",
        "print('RMSE is {}'.format(rms))\n",
        "    \n"
      ],
      "execution_count": 12,
      "outputs": [
        {
          "output_type": "stream",
          "text": [
            "(430, 13)\n",
            "(76, 13)\n",
            "(430,)\n",
            "(76,)\n",
            "The model performance for training set\n",
            "RMSE is 4.710901797319796 \\n\n",
            "The model performance for testing set\n",
            "RMSE is 4.687543527902972\n"
          ],
          "name": "stdout"
        }
      ]
    },
    {
      "cell_type": "markdown",
      "metadata": {
        "id": "v_Zz4dobW6xX"
      },
      "source": [
        ""
      ]
    }
  ]
}